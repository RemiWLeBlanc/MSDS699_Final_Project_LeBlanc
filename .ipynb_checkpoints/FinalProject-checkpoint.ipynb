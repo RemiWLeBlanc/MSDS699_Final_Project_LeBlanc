{
 "cells": [
  {
   "cell_type": "markdown",
   "metadata": {},
   "source": [
    "Remi LeBlanc"
   ]
  },
  {
   "cell_type": "markdown",
   "metadata": {},
   "source": [
    "Research Question / Hypothesis\n",
    "----\n",
    "\n",
    "\n"
   ]
  },
  {
   "cell_type": "markdown",
   "metadata": {},
   "source": [
    "My aim is to predict the burned area (area) of forest fires, in the northeast region of Portugal. Based on the the spatial, temporal, and weather variables where the fire is spotted."
   ]
  },
  {
   "cell_type": "code",
   "execution_count": 81,
   "metadata": {},
   "outputs": [],
   "source": [
    "import pandas as pd\n",
    "import numpy as np\n",
    "import matplotlib.pyplot as plt\n",
    "\n",
    "from   sklearn.impute             import *\n",
    "from   sklearn.pipeline           import Pipeline\n",
    "from   sklearn.preprocessing      import *\n",
    "from   sklearn.tree               import DecisionTreeRegressor, ExtraTreeRegressor\n",
    "from   sklearn.model_selection    import train_test_split, RandomizedSearchCV\n",
    "from   sklearn.linear_model       import LinearRegression\n",
    "from   sklearn.metrics            import mean_squared_error\n",
    "from   sklearn.ensemble           import RandomForestRegressor, AdaBoostRegressor, GradientBoostingRegressor\n",
    "from   sklearn.inspection         import permutation_importance\n",
    "from   sklearn.compose            import ColumnTransformer"
   ]
  },
  {
   "cell_type": "markdown",
   "metadata": {},
   "source": [
    "Load Data\n",
    "-----"
   ]
  },
  {
   "cell_type": "code",
   "execution_count": 82,
   "metadata": {},
   "outputs": [],
   "source": [
    "fires = pd.read_csv('forestFires.csv') #https://www.openml.org/d/42363"
   ]
  },
  {
   "cell_type": "raw",
   "metadata": {},
   "source": [
    "1. X - x-axis spatial coordinate within the Montesinho park map: 1 to 9\n",
    "\n",
    "2. Y - y-axis spatial coordinate within the Montesinho park map: 2 to 9\n",
    "\n",
    "3. month - month of the year: 'jan' to 'dec'\n",
    "\n",
    "4. day - day of the week: 'mon' to 'sun'\n",
    "\n",
    "5. FFMC - FFMC index from the FWI system: 18.7 to 96.20 https://www.nwcg.gov/publications/pms437/cffdrs/fire-weather-index-system \n",
    "\n",
    "6. DMC - DMC index from the FWI system: 1.1 to 291.3\n",
    "\n",
    "7. DC - DC index from the FWI system: 7.9 to 860.6\n",
    "\n",
    "8. ISI - ISI index from the FWI system: 0.0 to 56.10\n",
    "\n",
    "9. temp - temperature in Celsius degrees: 2.2 to 33.30\n",
    "\n",
    "10. RH - relative humidity in %: 15.0 to 100\n",
    "\n",
    "11. wind - wind speed in km/h: 0.40 to 9.40\n",
    "\n",
    "12. rain - outside rain in mm/m2 : 0.0 to 6.4\n",
    "\n",
    "13. area - the burned area of the forest (in ha): 0.00 to 1090.84"
   ]
  },
  {
   "cell_type": "code",
   "execution_count": 83,
   "metadata": {},
   "outputs": [
    {
     "data": {
      "text/plain": [
       "(array([508.,   6.,   1.,   0.,   0.,   0.,   1.,   0.,   0.,   1.]),\n",
       " array([   0.   ,  109.084,  218.168,  327.252,  436.336,  545.42 ,\n",
       "         654.504,  763.588,  872.672,  981.756, 1090.84 ]),\n",
       " <a list of 10 Patch objects>)"
      ]
     },
     "execution_count": 83,
     "metadata": {},
     "output_type": "execute_result"
    },
    {
     "data": {
      "image/png": "[encoded data removed]",
      "text/plain": [
       "<Figure size 432x288 with 1 Axes>"
      ]
     },
     "metadata": {
      "needs_background": "light"
     },
     "output_type": "display_data"
    }
   ],
   "source": [
    "plt.hist(fires['area'])"
   ]
  },
  {
   "cell_type": "markdown",
   "metadata": {},
   "source": [
    "The data is clearly has some outliers. However, is this case these outliers are very important to attempt to predict (big fire)"
   ]
  },
  {
   "cell_type": "code",
   "execution_count": 84,
   "metadata": {},
   "outputs": [
    {
     "data": {
      "text/plain": [
       "X        0\n",
       "Y        0\n",
       "month    0\n",
       "day      0\n",
       "FFMC     0\n",
       "DMC      0\n",
       "DC       0\n",
       "ISI      0\n",
       "temp     0\n",
       "RH       0\n",
       "wind     0\n",
       "rain     0\n",
       "area     0\n",
       "dtype: int64"
      ]
     },
     "execution_count": 84,
     "metadata": {},
     "output_type": "execute_result"
    }
   ],
   "source": [
    "fires.isna().sum() # There are no NA values in the data"
   ]
  },
  {
   "cell_type": "markdown",
   "metadata": {},
   "source": [
    "# Base Line"
   ]
  },
  {
   "cell_type": "markdown",
   "metadata": {},
   "source": [
    "Compute a baseline with a simple Linear Regressor."
   ]
  },
  {
   "cell_type": "code",
   "execution_count": 85,
   "metadata": {},
   "outputs": [],
   "source": [
    "y = fires['area']\n",
    "fires['RH'] = fires['RH'].astype(float)\n",
    "X = fires.drop(['area'], axis = 1)\n",
    "\n",
    "int_to_cat_cols = (X.dtypes == int)\n",
    "cat_cols = (X.dtypes == object)\n",
    "num_cols = (X.dtypes == float)\n",
    "\n",
    "cat_pipe = Pipeline([\n",
    "    ('ohe', OneHotEncoder(handle_unknown='ignore'))\n",
    "])\n",
    "\n",
    "num_pipe = Pipeline([\n",
    "    ('scaler', StandardScaler())\n",
    "])\n",
    "\n",
    "preprocessing = ColumnTransformer([\n",
    "    ('categorical', cat_pipe, cat_cols),\n",
    "    ('categorical2', cat_pipe, int_to_cat_cols),\n",
    "    ('continuous', num_pipe, num_cols)\n",
    "])\n",
    "X_train, X_test, y_train, y_test = train_test_split(X,y)"
   ]
  },
  {
   "cell_type": "code",
   "execution_count": 86,
   "metadata": {},
   "outputs": [],
   "source": [
    "pipe = Pipeline([\n",
    "    ('preprocesssing', preprocessing),\n",
    "    ('model', LinearRegression())\n",
    "])\n",
    "\n",
    "pipe.fit(X_train.values, y_train.values)\n",
    "\n",
    "y_pred = pipe.predict(X_test.values)"
   ]
  },
  {
   "cell_type": "code",
   "execution_count": 87,
   "metadata": {},
   "outputs": [
    {
     "data": {
      "text/plain": [
       "(array([ 2.,  1.,  6., 16., 27., 19., 26., 22.,  8.,  3.]),\n",
       " array([-41.50146685, -31.65287387, -21.80428089, -11.95568791,\n",
       "         -2.10709493,   7.74149805,  17.59009103,  27.43868401,\n",
       "         37.28727699,  47.13586997,  56.98446295]),\n",
       " <a list of 10 Patch objects>)"
      ]
     },
     "execution_count": 87,
     "metadata": {},
     "output_type": "execute_result"
    },
    {
     "data": {
      "image/png": "[encoded data removed]",
      "text/plain": [
       "<Figure size 432x288 with 1 Axes>"
      ]
     },
     "metadata": {
      "needs_background": "light"
     },
     "output_type": "display_data"
    }
   ],
   "source": [
    "plt.hist(y_pred)"
   ]
  },
  {
   "cell_type": "code",
   "execution_count": 88,
   "metadata": {},
   "outputs": [
    {
     "data": {
      "text/plain": [
       "(31.842144585294985, 1013.9221717908307)"
      ]
     },
     "execution_count": 88,
     "metadata": {},
     "output_type": "execute_result"
    }
   ],
   "source": [
    "rmse = np.sqrt(mean_squared_error(y_test, y_pred))\n",
    "mse = mean_squared_error(y_test, y_pred)\n",
    "rmse, mse"
   ]
  },
  {
   "cell_type": "markdown",
   "metadata": {},
   "source": [
    "Metrics scores aren't too bad, but we are predicting negative fire areas. That doesn't make any sense!"
   ]
  },
  {
   "cell_type": "markdown",
   "metadata": {},
   "source": [
    "# Resample"
   ]
  },
  {
   "cell_type": "markdown",
   "metadata": {},
   "source": [
    "Because the large fires are what we are intersted in, but there are so few of them, I will upsample the large fires and down sample the no fires. "
   ]
  },
  {
   "cell_type": "code",
   "execution_count": 89,
   "metadata": {},
   "outputs": [],
   "source": [
    "# Target engineering\n",
    "\n",
    "fires['fire'] = fires['area'] > 0\n",
    "fires['fire'] = fires['fire'].astype(int)\n",
    "fires['large'] = fires['area'] >np.std(fires['area'])  # I determined large fires to be larger than one standard deviation \n",
    "fires['large'] = fires['large'].astype(int)\n"
   ]
  },
  {
   "cell_type": "code",
   "execution_count": 90,
   "metadata": {},
   "outputs": [],
   "source": [
    "from sklearn.utils import resample\n",
    "# upsample the large fires\n",
    "\n",
    "df_majority = fires[(fires.large==0) & (fires.fire==1)]\n",
    "df_minority = fires[fires.large==1]\n",
    "\n",
    "df_minority_upsampled = resample(df_minority, \n",
    "                           replace=True,                     # sample with replacement\n",
    "                           n_samples=100,                    # make 100 large fires (19 before)\n",
    "                           random_state=123)                 # reproducible results\n",
    " \n",
    "# Combine majority class with upsampled minority class\n",
    "df_upsampled = pd.concat([df_majority, df_minority_upsampled])"
   ]
  },
  {
   "cell_type": "code",
   "execution_count": 91,
   "metadata": {},
   "outputs": [],
   "source": [
    "# downsample majority class - no fires\n",
    "df_majority = fires[fires.fire==0]\n",
    "df_minority = fires[fires.fire==1]\n",
    " \n",
    "# Downsample majority class\n",
    "df_majority_downsampled = resample(df_majority, \n",
    "                                 replace=False,         # sample without replacement\n",
    "                                 n_samples=100,         # make no fires same amount as large fires\n",
    "                                 random_state=123)      # reproducible results\n",
    " \n",
    "# Combine minority class with downsampled majority class\n"
   ]
  },
  {
   "cell_type": "code",
   "execution_count": 92,
   "metadata": {},
   "outputs": [],
   "source": [
    "df_resampled = pd.concat([df_majority_downsampled, df_upsampled])"
   ]
  },
  {
   "cell_type": "code",
   "execution_count": 93,
   "metadata": {},
   "outputs": [
    {
     "data": {
      "text/plain": [
       "(100, 100)"
      ]
     },
     "execution_count": 93,
     "metadata": {},
     "output_type": "execute_result"
    }
   ],
   "source": [
    "df_resampled['large'].sum(), len(df_resampled)-df_resampled['fire'].sum()"
   ]
  },
  {
   "cell_type": "markdown",
   "metadata": {},
   "source": [
    "There are now equal amount of large fires and no fires"
   ]
  },
  {
   "cell_type": "code",
   "execution_count": 94,
   "metadata": {},
   "outputs": [],
   "source": [
    "X = df_resampled.drop(['area', 'fire', 'large'], axis =1)\n",
    "y = df_resampled['area']\n",
    "int_to_cat_cols = (X.dtypes == int)\n",
    "cat_cols = (X.dtypes == object)\n",
    "num_cols = (X.dtypes == float)"
   ]
  },
  {
   "cell_type": "markdown",
   "metadata": {},
   "source": [
    "Fit scikit-learn model\n",
    "----"
   ]
  },
  {
   "cell_type": "markdown",
   "metadata": {},
   "source": [
    "Because we do no want negative values, a linear model is not appropraite. A tree based approach will correctly deal with this. \n",
    "Using a tree approach does not require standardizing the numeric variables."
   ]
  },
  {
   "cell_type": "code",
   "execution_count": 95,
   "metadata": {},
   "outputs": [],
   "source": [
    "cat_pipe = Pipeline([\n",
    "    ('ohe', OneHotEncoder(handle_unknown='ignore'))\n",
    "])\n",
    "\n",
    "preprocessing = ColumnTransformer([\n",
    "    ('categorical', cat_pipe, cat_cols),\n",
    "    ('categorical2', cat_pipe, int_to_cat_cols)\n",
    "])"
   ]
  },
  {
   "cell_type": "code",
   "execution_count": 96,
   "metadata": {},
   "outputs": [],
   "source": [
    "# spilt into train, validation, and test\n",
    "\n",
    "y = df_resampled['area']\n",
    "X = df_resampled.drop(['area','fire','large'], axis =1)\n",
    "X_train, X_valid, y_train, y_valid = train_test_split(X, y)\n",
    "X_train, X_test, y_train, y_test = train_test_split(X_train, y_train)\n"
   ]
  },
  {
   "cell_type": "code",
   "execution_count": 97,
   "metadata": {},
   "outputs": [
    {
     "data": {
      "text/plain": [
       "(85, 253, 113)"
      ]
     },
     "execution_count": 97,
     "metadata": {},
     "output_type": "execute_result"
    }
   ],
   "source": [
    "len(y_test), len(y_train), len(y_valid)"
   ]
  },
  {
   "cell_type": "code",
   "execution_count": 98,
   "metadata": {},
   "outputs": [
    {
     "name": "stdout",
     "output_type": "stream",
     "text": [
      "DecisionTreeRegressor     - mean squared error: 13236.577484477777\n",
      "DecisionTreeRegressor     - root mean squared error: 115.05032587732109\n",
      "\n",
      "AdaBoostRegressor         - mean squared error: 12080.471898809335\n",
      "AdaBoostRegressor         - root mean squared error: 109.9112000608188\n",
      "\n",
      "ExtraTreeRegressor        - mean squared error: 13299.838019020259\n",
      "ExtraTreeRegressor        - root mean squared error: 115.32492366795765\n",
      "\n",
      "RandomForestRegressor     - mean squared error: 11609.79463875339\n",
      "RandomForestRegressor     - root mean squared error: 107.74875701720828\n",
      "\n",
      "GradientBoostingRegressor - mean squared error: 12987.410590560534\n",
      "GradientBoostingRegressor - root mean squared error: 113.96232092477116\n",
      "\n"
     ]
    }
   ],
   "source": [
    "algorithms = [DecisionTreeRegressor(),\n",
    "              AdaBoostRegressor(),\n",
    "              ExtraTreeRegressor(), \n",
    "              RandomForestRegressor(),\n",
    "              GradientBoostingRegressor()]\n",
    "\n",
    "for algo in algorithms:\n",
    "    pipe = Pipeline([('preprocessing', preprocessing), \n",
    "                     ('model',         algo)])\n",
    "\n",
    "    pipe.fit(X_train, y_train)\n",
    "    y_pred = pipe.predict(X_test)\n",
    "    \n",
    "    mse = mean_squared_error(y_test, y_pred)\n",
    "    rmse = np.sqrt(mean_squared_error(y_test, y_pred))\n",
    "    print(f\"{algo.__class__.__name__:<25} - mean squared error: {mse}\")\n",
    "    print(f\"{algo.__class__.__name__:<25} - root mean squared error: {rmse}\")\n",
    "    print()"
   ]
  },
  {
   "cell_type": "markdown",
   "metadata": {},
   "source": [
    "RMSE penalizes outliers the most, and because we want to best predict the large fires we want to lowest RMSE score. \n",
    "The results are inconsistent so I will try a hyperparameter tune a few of these models to see which can best predict fire area."
   ]
  },
  {
   "cell_type": "markdown",
   "metadata": {},
   "source": [
    "# Ada Boost Regressor"
   ]
  },
  {
   "cell_type": "code",
   "execution_count": 99,
   "metadata": {},
   "outputs": [],
   "source": [
    "hyperparameters = {\n",
    " 'learning_rate': [0.1, 0.5, 1.0, 2.0],\n",
    " 'loss': ['linear', 'square', 'exponential'],\n",
    " 'n_estimators': [10, 50, 100, 1000]}"
   ]
  },
  {
   "cell_type": "code",
   "execution_count": 100,
   "metadata": {},
   "outputs": [
    {
     "name": "stdout",
     "output_type": "stream",
     "text": [
      "Fitting 5 folds for each of 10 candidates, totalling 50 fits\n",
      "\n"
     ]
    }
   ],
   "source": [
    "ada_cv = RandomizedSearchCV(estimator=AdaBoostRegressor(), \n",
    "                              param_distributions=hyperparameters, \n",
    "                              n_iter=10, \n",
    "                              cv=5, \n",
    "                              verbose=1,\n",
    "                              random_state=43)\n",
    "\n",
    "pipe_ada_cv = Pipeline([\n",
    "        ('preprocessing', preprocessing), \n",
    "        ('lr', ada_cv)])\n",
    "\n",
    "pipe_ada_cv.fit(X_train.values, y_train.values)\n",
    "print()"
   ]
  },
  {
   "cell_type": "code",
   "execution_count": 101,
   "metadata": {},
   "outputs": [],
   "source": [
    "hyperparams = ada_cv.best_estimator_.get_params()\n"
   ]
  },
  {
   "cell_type": "code",
   "execution_count": 102,
   "metadata": {},
   "outputs": [],
   "source": [
    "pipe_ada = Pipeline([('preprocessing', preprocessing), \n",
    "                     ('model',     AdaBoostRegressor(**hyperparams))])\n",
    "\n",
    "pipe_ada.fit(X_train, y_train)\n",
    "y_pred = pipe_ada.predict(X_test)"
   ]
  },
  {
   "cell_type": "code",
   "execution_count": 103,
   "metadata": {},
   "outputs": [],
   "source": [
    "rmse = np.sqrt(mean_squared_error(y_test, y_pred))"
   ]
  },
  {
   "cell_type": "code",
   "execution_count": 104,
   "metadata": {},
   "outputs": [],
   "source": [
    "r2 = pipe_ada.score(X_test.values, y_test.values)"
   ]
  },
  {
   "cell_type": "code",
   "execution_count": 105,
   "metadata": {},
   "outputs": [],
   "source": [
    "scores_ada = {'rmse':rmse, 'r2':r2 }"
   ]
  },
  {
   "cell_type": "markdown",
   "metadata": {},
   "source": [
    "# Gradient Boosting Regressor"
   ]
  },
  {
   "cell_type": "code",
   "execution_count": 106,
   "metadata": {},
   "outputs": [],
   "source": [
    "hyperparameters = {\n",
    " 'alpha': [0.1, 0.5, 0.9],\n",
    " 'criterion': ['friedman_mse', 'mse'],\n",
    " 'learning_rate': [0.01,0.1, 0.5, 1],\n",
    " 'loss': ['ls', 'lad', 'huber', 'quantile'],\n",
    " 'max_depth': [3, 5, 10],\n",
    " 'max_features': [None, 5, 10],\n",
    " 'min_samples_leaf': [1, 2, 5, 10],\n",
    " 'n_estimators': [10, 50, 100, 1000],\n",
    " 'warm_start': [False, True]}"
   ]
  },
  {
   "cell_type": "code",
   "execution_count": 107,
   "metadata": {},
   "outputs": [
    {
     "name": "stdout",
     "output_type": "stream",
     "text": [
      "Fitting 5 folds for each of 10 candidates, totalling 50 fits\n",
      "\n"
     ]
    }
   ],
   "source": [
    "gb_cv = RandomizedSearchCV(estimator=GradientBoostingRegressor(), \n",
    "                              param_distributions=hyperparameters, \n",
    "                              n_iter=10, \n",
    "                              cv=5, \n",
    "                              verbose=1,\n",
    "                              random_state=43)\n",
    "\n",
    "pipe_gb_cv = Pipeline([\n",
    "        ('preprocessing', preprocessing), \n",
    "        ('model', gb_cv)])\n",
    "\n",
    "pipe_gb_cv.fit(X_train.values, y_train.values)\n",
    "print()"
   ]
  },
  {
   "cell_type": "code",
   "execution_count": 108,
   "metadata": {},
   "outputs": [],
   "source": [
    "hyperparams = gb_cv.best_estimator_.get_params()\n"
   ]
  },
  {
   "cell_type": "code",
   "execution_count": 109,
   "metadata": {},
   "outputs": [
    {
     "name": "stdout",
     "output_type": "stream",
     "text": [
      "\n"
     ]
    }
   ],
   "source": [
    "pipe_gb = Pipeline([\n",
    "    ('preprocessing', preprocessing),\n",
    "    ('m', GradientBoostingRegressor(**hyperparams))\n",
    "])\n",
    "pipe_gb.fit(X_train.values, y_train.values)\n",
    "print()"
   ]
  },
  {
   "cell_type": "code",
   "execution_count": 110,
   "metadata": {},
   "outputs": [],
   "source": [
    "y_pred = pipe_gb.predict(X_test.values)"
   ]
  },
  {
   "cell_type": "code",
   "execution_count": 111,
   "metadata": {},
   "outputs": [],
   "source": [
    "rmse = np.sqrt(mean_squared_error(y_test, y_pred))"
   ]
  },
  {
   "cell_type": "code",
   "execution_count": 112,
   "metadata": {},
   "outputs": [],
   "source": [
    "r2 = pipe_gb.score(X_test.values, y_test.values)"
   ]
  },
  {
   "cell_type": "code",
   "execution_count": 113,
   "metadata": {},
   "outputs": [],
   "source": [
    "scores_gb = {'rmse':rmse, 'r2':r2}"
   ]
  },
  {
   "cell_type": "markdown",
   "metadata": {},
   "source": [
    "# Decision Tree Regressor"
   ]
  },
  {
   "cell_type": "code",
   "execution_count": 114,
   "metadata": {},
   "outputs": [],
   "source": [
    "hyperparameters = {'ccp_alpha': [0.0, 0.1, 0.5],\n",
    " 'criterion': ['mse', 'friedman_mse', 'mae', 'poisson'],\n",
    " 'max_depth': [None, 5, 10, 50, 100],\n",
    " 'max_features': [None, 5, 10],\n",
    " 'max_leaf_nodes': [None, 10, 50, 100, 1000],\n",
    " 'min_samples_leaf': [1, 2, 5, 10],\n",
    " 'splitter': ['best', 'random']}"
   ]
  },
  {
   "cell_type": "code",
   "execution_count": 115,
   "metadata": {},
   "outputs": [
    {
     "name": "stdout",
     "output_type": "stream",
     "text": [
      "Fitting 5 folds for each of 10 candidates, totalling 50 fits\n",
      "\n"
     ]
    }
   ],
   "source": [
    "dt_cv = RandomizedSearchCV(estimator=DecisionTreeRegressor(), \n",
    "                              param_distributions=hyperparameters, \n",
    "                              n_iter=10, \n",
    "                              cv=5, \n",
    "                              verbose=1,\n",
    "                              random_state=43)\n",
    "\n",
    "pipe_dt_cv = Pipeline([\n",
    "        ('preprocessing', preprocessing), \n",
    "        ('lr', dt_cv)])\n",
    "\n",
    "pipe_dt_cv.fit(X_train.values, y_train.values)\n",
    "print()"
   ]
  },
  {
   "cell_type": "code",
   "execution_count": 116,
   "metadata": {},
   "outputs": [],
   "source": [
    "hyperparams = dt_cv.best_estimator_.get_params()\n",
    "hyperparams['random_state'] = 1"
   ]
  },
  {
   "cell_type": "code",
   "execution_count": 117,
   "metadata": {},
   "outputs": [
    {
     "name": "stdout",
     "output_type": "stream",
     "text": [
      "\n"
     ]
    }
   ],
   "source": [
    "pipe_dt = Pipeline([\n",
    "    ('preprocessing', preprocessing),\n",
    "    ('m', DecisionTreeRegressor(**hyperparams))\n",
    "])\n",
    "pipe_dt.fit(X_train.values, y_train.values)\n",
    "print()"
   ]
  },
  {
   "cell_type": "code",
   "execution_count": 118,
   "metadata": {},
   "outputs": [],
   "source": [
    "y_pred = pipe_dt.predict(X_test.values)"
   ]
  },
  {
   "cell_type": "code",
   "execution_count": 119,
   "metadata": {},
   "outputs": [],
   "source": [
    "r2 = pipe_dt.score(X_test.values, y_test.values)"
   ]
  },
  {
   "cell_type": "code",
   "execution_count": 120,
   "metadata": {},
   "outputs": [],
   "source": [
    "rmse = np.sqrt(mean_squared_error(y_test, y_pred))"
   ]
  },
  {
   "cell_type": "code",
   "execution_count": 121,
   "metadata": {},
   "outputs": [],
   "source": [
    "scores_dt = {'rmse':rmse, 'r2':r2}"
   ]
  },
  {
   "cell_type": "markdown",
   "metadata": {},
   "source": [
    "# Random Forest Regressor"
   ]
  },
  {
   "cell_type": "code",
   "execution_count": 122,
   "metadata": {},
   "outputs": [],
   "source": [
    "hyperparameters = {\n",
    "     'bootstrap': [True, False],\n",
    "     'criterion': ['mse', 'mae'],\n",
    "     'max_depth': [1, 10, 50, 100],\n",
    "     'max_features': ['auto', 'sqrt', 'log2'],\n",
    "     'max_leaf_nodes': [10, 100, 1000],\n",
    "     'max_samples': [None],\n",
    "     'min_samples_leaf': [1, 10, 20],\n",
    "     'n_estimators': [10, 100, 1000],\n",
    "     'oob_score': [False],\n",
    "     'warm_start': [False, True]}"
   ]
  },
  {
   "cell_type": "code",
   "execution_count": 123,
   "metadata": {},
   "outputs": [
    {
     "name": "stdout",
     "output_type": "stream",
     "text": [
      "Fitting 5 folds for each of 10 candidates, totalling 50 fits\n",
      "\n"
     ]
    }
   ],
   "source": [
    "rfr_cv = RandomizedSearchCV(estimator=RandomForestRegressor(), \n",
    "                              param_distributions=hyperparameters, \n",
    "                              n_iter=10, \n",
    "                              cv=5, \n",
    "                              verbose=1, \n",
    "                              random_state=43)\n",
    "\n",
    "pipe_rf_cv = Pipeline([('preprocessing',preprocessing),\n",
    "                ('rf', rfr_cv)])\n",
    "\n",
    "pipe_rf_cv.fit(X_train, y_train)\n",
    "print()"
   ]
  },
  {
   "cell_type": "code",
   "execution_count": 124,
   "metadata": {},
   "outputs": [],
   "source": [
    "hyperparams = rfr_cv.best_estimator_.get_params()\n"
   ]
  },
  {
   "cell_type": "code",
   "execution_count": 125,
   "metadata": {},
   "outputs": [],
   "source": [
    "pipe_rf = Pipeline([\n",
    "    ('preprocessing', preprocessing),\n",
    "    ('m', RandomForestRegressor(**hyperparams))\n",
    "])\n"
   ]
  },
  {
   "cell_type": "code",
   "execution_count": 126,
   "metadata": {},
   "outputs": [
    {
     "name": "stdout",
     "output_type": "stream",
     "text": [
      "\n"
     ]
    }
   ],
   "source": [
    "pipe_rf.fit(X_train.values, y_train.values)\n",
    "print()"
   ]
  },
  {
   "cell_type": "code",
   "execution_count": 127,
   "metadata": {},
   "outputs": [],
   "source": [
    "y_pred = pipe_rf.predict(X_test.values)"
   ]
  },
  {
   "cell_type": "code",
   "execution_count": 128,
   "metadata": {},
   "outputs": [],
   "source": [
    "rmse = np.sqrt(mean_squared_error(y_test, y_pred))"
   ]
  },
  {
   "cell_type": "code",
   "execution_count": 129,
   "metadata": {},
   "outputs": [],
   "source": [
    "r2 = pipe_rf.score(X_test.values, y_test.values)"
   ]
  },
  {
   "cell_type": "code",
   "execution_count": 130,
   "metadata": {},
   "outputs": [],
   "source": [
    "scores_rf = {'rmse':rmse, 'r2':r2}"
   ]
  },
  {
   "cell_type": "markdown",
   "metadata": {},
   "source": [
    "# Final Model"
   ]
  },
  {
   "cell_type": "code",
   "execution_count": 131,
   "metadata": {},
   "outputs": [
    {
     "data": {
      "text/plain": [
       "({'rmse': 141.25877644600448, 'r2': 0.06873977112851537},\n",
       " {'rmse': 116.2924354245241, 'r2': 0.3688347104970652},\n",
       " {'rmse': 110.36489805343362, 'r2': 0.4315371231152826},\n",
       " {'rmse': 115.4469326875538, 'r2': 0.3779791062215353})"
      ]
     },
     "execution_count": 131,
     "metadata": {},
     "output_type": "execute_result"
    }
   ],
   "source": [
    "scores_ada, scores_gb, scores_rf, scores_dt"
   ]
  },
  {
   "cell_type": "code",
   "execution_count": 132,
   "metadata": {},
   "outputs": [],
   "source": [
    "scores_ada['model']='Ada Boost Regressor'\n",
    "scores_gb['model']='Gradient Boosting'\n",
    "scores_rf['model']='Random Forest'\n",
    "scores_dt['model']='Decision Tree'"
   ]
  },
  {
   "cell_type": "code",
   "execution_count": 133,
   "metadata": {},
   "outputs": [],
   "source": [
    "models = pd.DataFrame.from_dict([scores_ada, scores_gb, scores_rf, scores_dt])"
   ]
  },
  {
   "cell_type": "code",
   "execution_count": 134,
   "metadata": {},
   "outputs": [
    {
     "data": {
      "text/html": [
       "<div>\n",
       "<style scoped>\n",
       "    .dataframe tbody tr th:only-of-type {\n",
       "        vertical-align: middle;\n",
       "    }\n",
       "\n",
       "    .dataframe tbody tr th {\n",
       "        vertical-align: top;\n",
       "    }\n",
       "\n",
       "    .dataframe thead th {\n",
       "        text-align: right;\n",
       "    }\n",
       "</style>\n",
       "<table border=\"1\" class=\"dataframe\">\n",
       "  <thead>\n",
       "    <tr style=\"text-align: right;\">\n",
       "      <th></th>\n",
       "      <th>rmse</th>\n",
       "      <th>r2</th>\n",
       "      <th>model</th>\n",
       "    </tr>\n",
       "  </thead>\n",
       "  <tbody>\n",
       "    <tr>\n",
       "      <th>0</th>\n",
       "      <td>141.258776</td>\n",
       "      <td>0.068740</td>\n",
       "      <td>Ada Boost Regressor</td>\n",
       "    </tr>\n",
       "    <tr>\n",
       "      <th>1</th>\n",
       "      <td>116.292435</td>\n",
       "      <td>0.368835</td>\n",
       "      <td>Gradient Boosting</td>\n",
       "    </tr>\n",
       "    <tr>\n",
       "      <th>2</th>\n",
       "      <td>110.364898</td>\n",
       "      <td>0.431537</td>\n",
       "      <td>Random Forest</td>\n",
       "    </tr>\n",
       "    <tr>\n",
       "      <th>3</th>\n",
       "      <td>115.446933</td>\n",
       "      <td>0.377979</td>\n",
       "      <td>Decision Tree</td>\n",
       "    </tr>\n",
       "  </tbody>\n",
       "</table>\n",
       "</div>"
      ],
      "text/plain": [
       "         rmse        r2                model\n",
       "0  141.258776  0.068740  Ada Boost Regressor\n",
       "1  116.292435  0.368835    Gradient Boosting\n",
       "2  110.364898  0.431537        Random Forest\n",
       "3  115.446933  0.377979        Decision Tree"
      ]
     },
     "execution_count": 134,
     "metadata": {},
     "output_type": "execute_result"
    }
   ],
   "source": [
    "models"
   ]
  },
  {
   "cell_type": "code",
   "execution_count": 146,
   "metadata": {},
   "outputs": [
    {
     "data": {
      "text/plain": [
       "Text(0.5, 1.0, 'R Squared')"
      ]
     },
     "execution_count": 146,
     "metadata": {},
     "output_type": "execute_result"
    },
    {
     "data": {
      "image/png": "[encoded data removed]",
      "text/plain": [
       "<Figure size 432x288 with 1 Axes>"
      ]
     },
     "metadata": {
      "needs_background": "light"
     },
     "output_type": "display_data"
    }
   ],
   "source": [
    "plt.plot(models.model, models.r2)\n",
    "plt.title('R Squared')"
   ]
  },
  {
   "cell_type": "code",
   "execution_count": 145,
   "metadata": {},
   "outputs": [
    {
     "data": {
      "text/plain": [
       "Text(0.5, 1.0, 'RMSE')"
      ]
     },
     "execution_count": 145,
     "metadata": {},
     "output_type": "execute_result"
    },
    {
     "data": {
      "image/png": "[encoded data removed]",
      "text/plain": [
       "<Figure size 432x288 with 1 Axes>"
      ]
     },
     "metadata": {
      "needs_background": "light"
     },
     "output_type": "display_data"
    }
   ],
   "source": [
    "plt.plot(models.model, models.rmse)\n",
    "plt.title('RMSE')"
   ]
  },
  {
   "cell_type": "markdown",
   "metadata": {},
   "source": [
    "## Random forest has the lowest RMSE and the highest R^2"
   ]
  },
  {
   "cell_type": "markdown",
   "metadata": {},
   "source": [
    "I decided to go with the Random Forest Regressor because of the metrics, and I would also expect to do well predicting this kind of data. With these outliers it is easy to overfit or not capture then accurately but a RF does a good job at this"
   ]
  },
  {
   "cell_type": "code",
   "execution_count": 136,
   "metadata": {},
   "outputs": [],
   "source": [
    "y_pred = pipe_rf.predict(X_valid.values)"
   ]
  },
  {
   "cell_type": "code",
   "execution_count": 137,
   "metadata": {},
   "outputs": [
    {
     "data": {
      "text/plain": [
       "(111.72220177386555, 0.29918763820436267)"
      ]
     },
     "execution_count": 137,
     "metadata": {},
     "output_type": "execute_result"
    }
   ],
   "source": [
    "rmse = np.sqrt(mean_squared_error(y_valid, y_pred))\n",
    "r2 = pipe_rf.score(X_valid.values, y_valid.values)\n",
    "rmse, r2"
   ]
  },
  {
   "cell_type": "code",
   "execution_count": 138,
   "metadata": {},
   "outputs": [
    {
     "data": {
      "image/png": "[encoded data removed]",
      "text/plain": [
       "<Figure size 432x288 with 1 Axes>"
      ]
     },
     "metadata": {
      "needs_background": "light"
     },
     "output_type": "display_data"
    }
   ],
   "source": [
    "r = permutation_importance(pipe_rf, X_test.values, y_test.values,\n",
    "                            n_repeats=30,\n",
    "                            random_state=0)\n",
    "\n",
    "importances = list(zip(X_train.columns, r.importances_mean))\n",
    "importances = sorted(importances, key=lambda x: x[1])\n",
    "\n",
    "plt.barh(*zip(*importances))\n",
    "plt.xlabel('Feature Importance')\n",
    "plt.ylabel('Features')\n",
    "plt.title('Permutation Feature Importance')\n",
    "plt.show()"
   ]
  },
  {
   "cell_type": "markdown",
   "metadata": {},
   "source": [
    "Features importance is a very big take away from this model. This tells us which of the features was most predictive of a fire. As shown above, the day of the week, the month, and location are the bigget indicators of a fire. "
   ]
  },
  {
   "cell_type": "code",
   "execution_count": 139,
   "metadata": {},
   "outputs": [
    {
     "data": {
      "text/plain": [
       "Text(0.5, 1.0, 'Predicted Area')"
      ]
     },
     "execution_count": 139,
     "metadata": {},
     "output_type": "execute_result"
    },
    {
     "data": {
      "image/png": "[encoded data removed]",
      "text/plain": [
       "<Figure size 432x288 with 1 Axes>"
      ]
     },
     "metadata": {
      "needs_background": "light"
     },
     "output_type": "display_data"
    }
   ],
   "source": [
    "plt.hist(y_valid)\n",
    "plt.hist(y_pred)\n",
    "\n",
    "plt.xlabel('Burn area (hectares)')\n",
    "plt.ylabel('Number of fires')\n",
    "plt.title('Predicted Area')"
   ]
  },
  {
   "cell_type": "markdown",
   "metadata": {},
   "source": [
    "### Test model of original, not upsampled data set"
   ]
  },
  {
   "cell_type": "code",
   "execution_count": 140,
   "metadata": {},
   "outputs": [],
   "source": [
    "y = fires['area']"
   ]
  },
  {
   "cell_type": "code",
   "execution_count": 141,
   "metadata": {},
   "outputs": [],
   "source": [
    "X = fires.drop(['area', 'fire', 'large'], axis = 1)"
   ]
  },
  {
   "cell_type": "code",
   "execution_count": 142,
   "metadata": {},
   "outputs": [],
   "source": [
    "y_pred = pipe_rf.predict(X.values)"
   ]
  },
  {
   "cell_type": "code",
   "execution_count": 147,
   "metadata": {},
   "outputs": [
    {
     "data": {
      "text/plain": [
       "77.0583801250012"
      ]
     },
     "execution_count": 147,
     "metadata": {},
     "output_type": "execute_result"
    }
   ],
   "source": [
    "rmse = np.sqrt(mean_squared_error(y, y_pred))\n",
    "rmse"
   ]
  },
  {
   "cell_type": "code",
   "execution_count": 148,
   "metadata": {},
   "outputs": [
    {
     "data": {
      "text/plain": [
       "Text(0.5, 1.0, 'Original Sample Data (orange = predicted)')"
      ]
     },
     "execution_count": 148,
     "metadata": {},
     "output_type": "execute_result"
    },
    {
     "data": {
      "image/png": "[encoded data removed]",
      "text/plain": [
       "<Figure size 432x288 with 1 Axes>"
      ]
     },
     "metadata": {
      "needs_background": "light"
     },
     "output_type": "display_data"
    }
   ],
   "source": [
    "plt.hist(fires['area'])\n",
    "plt.hist(y_pred)\n",
    "plt.xlabel('Burn area (hectares)')\n",
    "plt.ylabel('Number of fires')\n",
    "plt.title('Original Sample Data (orange = predicted)')"
   ]
  },
  {
   "cell_type": "markdown",
   "metadata": {},
   "source": [
    "I was suspicous the model only worked well on the upsampled data. So I tried to predict the original data set and found it did a pretty good job at predicting burned area, including the large fires"
   ]
  },
  {
   "cell_type": "markdown",
   "metadata": {},
   "source": [
    "Upsampling turned out to be very effective method to help predict the large fires. "
   ]
  },
  {
   "cell_type": "markdown",
   "metadata": {},
   "source": [
    "There are obvious reason why this model is important. Uncontrolled forest fires can cause a lot of damage and because of human caused climate change, forest fires have become more frequent and larger (this only references my own personal knowledge, especially being in California in 2020). The features importances of this model can tell us a lot about what indicators might point to a fire the most. Out best model, the random forest, indicate that day, month, and location are the biggest predictors. A continuation of this project would be to find out which month and days, and which locations are the most predictive. Knowing these could help firefighters be more prepared, and give warning to recreational users of the park to be extra safe when dealing with fire."
   ]
  }
 ],
 "metadata": {
  "kernelspec": {
   "display_name": "Python 3",
   "language": "python",
   "name": "python3"
  },
  "language_info": {
   "codemirror_mode": {
    "name": "ipython",
    "version": 3
   },
   "file_extension": ".py",
   "mimetype": "text/x-python",
   "name": "python",
   "nbconvert_exporter": "python",
   "pygments_lexer": "ipython3",
   "version": "3.8.2"
  }
 },
 "nbformat": 4,
 "nbformat_minor": 4
}
